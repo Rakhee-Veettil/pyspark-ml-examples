{
 "cells": [
  {
   "cell_type": "markdown",
   "metadata": {},
   "source": [
    "## Anomaly Detection in Network Trac with K-means Clustering"
   ]
  },
  {
   "cell_type": "markdown",
   "metadata": {},
   "source": [
    "- KDD Cup 1999: Computer network intrusion detection\n",
    "- http://www.kdd.org/kdd-cup/view/kdd-cup-1999/Data"
   ]
  },
  {
   "cell_type": "markdown",
   "metadata": {},
   "source": [
    "---\n",
    "- kddcup.names A list of features.\n",
    "- kddcup.data.zip The full data set (18M; 743M Uncompressed)\n",
    "- kddcup.testdata.unlabeled.zip (11.2M; 430M Uncompressed)\n",
    "- kddcup.data_10_percent.zip A 10% subset. (2.1M; 75M Uncompressed)\n",
    "- kddcup.newtestdata_10_percent_unlabeled.zip (1.4M; 45M Uncompressed)\n",
    "- kddcup.testdata.unlabeled_10_percent.zip (1.4M;45M Uncompressed)\n",
    "- corrected.zip Test data with corrected labels.\n",
    "- training_attack_types A list of intrusion types."
   ]
  },
  {
   "cell_type": "code",
   "execution_count": 1,
   "metadata": {},
   "outputs": [],
   "source": [
    "from pyspark.conf import SparkConf\n",
    "from pyspark import StorageLevel\n",
    "\n",
    "from pyspark.sql import SparkSession\n",
    "from pyspark.sql.functions import *\n",
    "from pyspark.sql.types import *"
   ]
  },
  {
   "cell_type": "code",
   "execution_count": 2,
   "metadata": {},
   "outputs": [],
   "source": [
    "spark = SparkSession.builder \\\n",
    "    .master(\"local\") \\\n",
    "    .appName(\"Spark ML\") \\\n",
    "    .getOrCreate()\n",
    "\n",
    "sc = spark.sparkContext\n",
    "sc.setLogLevel(\"INFO\")"
   ]
  },
  {
   "cell_type": "code",
   "execution_count": 3,
   "metadata": {},
   "outputs": [
    {
     "name": "stdout",
     "output_type": "stream",
     "text": [
      "Number of training data: 494021\n",
      "root\n",
      " |-- duration: integer (nullable = true)\n",
      " |-- protocol_type: string (nullable = true)\n",
      " |-- service: string (nullable = true)\n",
      " |-- flag: string (nullable = true)\n",
      " |-- src_bytes: integer (nullable = true)\n",
      " |-- dst_bytes: integer (nullable = true)\n",
      " |-- land: integer (nullable = true)\n",
      " |-- wrong_fragment: integer (nullable = true)\n",
      " |-- urgent: integer (nullable = true)\n",
      " |-- hot: integer (nullable = true)\n",
      " |-- num_failed_logins: integer (nullable = true)\n",
      " |-- logged_in: integer (nullable = true)\n",
      " |-- num_compromised: integer (nullable = true)\n",
      " |-- root_shell: integer (nullable = true)\n",
      " |-- su_attempted: integer (nullable = true)\n",
      " |-- num_root: string (nullable = true)\n",
      " |-- num_file_creations: string (nullable = true)\n",
      " |-- num_shells: string (nullable = true)\n",
      " |-- num_access_files: integer (nullable = true)\n",
      " |-- num_outbound_cmds: integer (nullable = true)\n",
      " |-- is_host_login: integer (nullable = true)\n",
      " |-- is_guest_login: integer (nullable = true)\n",
      " |-- count: integer (nullable = true)\n",
      " |-- srv_count: integer (nullable = true)\n",
      " |-- serror_rate: double (nullable = true)\n",
      " |-- srv_serror_rate: double (nullable = true)\n",
      " |-- rerror_rate: double (nullable = true)\n",
      " |-- srv_rerror_rate: double (nullable = true)\n",
      " |-- same_srv_rate: double (nullable = true)\n",
      " |-- diff_srv_rate: double (nullable = true)\n",
      " |-- srv_diff_host_rate: double (nullable = true)\n",
      " |-- dst_host_count: integer (nullable = true)\n",
      " |-- dst_host_srv_count: integer (nullable = true)\n",
      " |-- dst_host_same_srv_rate: double (nullable = true)\n",
      " |-- dst_host_diff_srv_rate: double (nullable = true)\n",
      " |-- dst_host_same_src_port_rate: double (nullable = true)\n",
      " |-- dst_host_srv_diff_host_rate: double (nullable = true)\n",
      " |-- dst_host_serror_rate: double (nullable = true)\n",
      " |-- dst_host_srv_serror_rate: double (nullable = true)\n",
      " |-- dst_host_rerror_rate: double (nullable = true)\n",
      " |-- dst_host_srv_rerror_rate: double (nullable = true)\n",
      " |-- label: string (nullable = true)\n",
      "\n"
     ]
    }
   ],
   "source": [
    "df = spark.read.csv(\"../dataset/kddcup.data_10_percent.txt\", inferSchema=True, sep=\",\").toDF(\n",
    "    \"duration\", \"protocol_type\", \"service\", \"flag\", \"src_bytes\",\n",
    "    \"dst_bytes\", \"land\", \"wrong_fragment\", \"urgent\",\n",
    "    \"hot\", \"num_failed_logins\", \"logged_in\", \"num_compromised\",\n",
    "    \"root_shell\", \"su_attempted\", \"num_root\", \"num_file_creations\",\n",
    "    \"num_shells\", \"num_access_files\", \"num_outbound_cmds\",\n",
    "    \"is_host_login\", \"is_guest_login\", \"count\", \"srv_count\",\n",
    "    \"serror_rate\", \"srv_serror_rate\", \"rerror_rate\", \"srv_rerror_rate\",\n",
    "    \"same_srv_rate\", \"diff_srv_rate\", \"srv_diff_host_rate\",\n",
    "    \"dst_host_count\", \"dst_host_srv_count\",\n",
    "    \"dst_host_same_srv_rate\", \"dst_host_diff_srv_rate\",\n",
    "    \"dst_host_same_src_port_rate\", \"dst_host_srv_diff_host_rate\",\n",
    "    \"dst_host_serror_rate\", \"dst_host_srv_serror_rate\",\n",
    "    \"dst_host_rerror_rate\", \"dst_host_srv_rerror_rate\", \"label\")\n",
    "\n",
    "print(\"Number of training data: {}\".format(df.count()))\n",
    "df.printSchema()"
   ]
  },
  {
   "cell_type": "code",
   "execution_count": 4,
   "metadata": {},
   "outputs": [
    {
     "name": "stdout",
     "output_type": "stream",
     "text": [
      "+----------------+------+\n",
      "|           label| count|\n",
      "+----------------+------+\n",
      "|          smurf.|280790|\n",
      "|        neptune.|107201|\n",
      "|         normal.| 97277|\n",
      "|           back.|  2203|\n",
      "|          satan.|  1589|\n",
      "|        ipsweep.|  1247|\n",
      "|      portsweep.|  1040|\n",
      "|    warezclient.|  1020|\n",
      "|       teardrop.|   979|\n",
      "|            pod.|   264|\n",
      "|           nmap.|   231|\n",
      "|   guess_passwd.|    53|\n",
      "|buffer_overflow.|    30|\n",
      "|           land.|    21|\n",
      "|    warezmaster.|    20|\n",
      "|           imap.|    12|\n",
      "|        rootkit.|    10|\n",
      "|     loadmodule.|     9|\n",
      "|      ftp_write.|     8|\n",
      "|       multihop.|     7|\n",
      "|            phf.|     4|\n",
      "|           perl.|     3|\n",
      "|            spy.|     2|\n",
      "|            0.00|     1|\n",
      "+----------------+------+\n",
      "\n"
     ]
    }
   ],
   "source": [
    "df.select(\"label\").groupBy(\"label\").count().orderBy(desc(\"count\")).show(25)"
   ]
  },
  {
   "cell_type": "code",
   "execution_count": 5,
   "metadata": {},
   "outputs": [],
   "source": [
    "from pyspark.ml.feature import VectorAssembler\n",
    "from pyspark.ml.clustering import KMeans, KMeansModel\n",
    "from pyspark.ml import Pipeline"
   ]
  },
  {
   "cell_type": "code",
   "execution_count": 6,
   "metadata": {},
   "outputs": [],
   "source": [
    "# Only numeric\n",
    "df = df.withColumn(\"num_root\", df.num_root.cast(\"int\"))\n",
    "df = df.withColumn(\"num_file_creations\", df.num_root.cast(\"int\"))\n",
    "df = df.withColumn(\"num_shells\", df.num_root.cast(\"int\"))\n",
    "\n",
    "# Drop null\n",
    "train = df.drop(\"protocol_type\", \"service\", \"flag\").dropna().cache()\n",
    "columns = train.columns\n",
    "columns.remove('label')"
   ]
  },
  {
   "cell_type": "code",
   "execution_count": 7,
   "metadata": {},
   "outputs": [],
   "source": [
    "# VectorAssembler\n",
    "assembler = VectorAssembler() \\\n",
    "    .setInputCols(columns) \\\n",
    "    .setOutputCol(\"featureVector\")\n",
    "\n",
    "# KMeans\n",
    "kmeans = KMeans() \\\n",
    "    .setK(3) \\\n",
    "    .setSeed(7) \\\n",
    "    .setPredictionCol(\"cluster\") \\\n",
    "    .setFeaturesCol(\"featureVector\")"
   ]
  },
  {
   "cell_type": "code",
   "execution_count": 8,
   "metadata": {},
   "outputs": [],
   "source": [
    "# Pipeline\n",
    "pipeline = Pipeline().setStages([assembler, kmeans])\n",
    "pipelineModel = pipeline.fit(train)\n",
    "kmeansModel = pipelineModel.stages[-1]"
   ]
  },
  {
   "cell_type": "code",
   "execution_count": 9,
   "metadata": {},
   "outputs": [
    {
     "name": "stdout",
     "output_type": "stream",
     "text": [
      "[  4.73818366e+01   1.00902844e+03   8.68636272e+02   4.45380193e-05\n",
      "   6.43371933e-03   1.41711880e-05   3.41971010e-02   1.51834157e-04\n",
      "   1.48143574e-01   1.02133776e-02   1.11345048e-04   3.64401976e-05\n",
      "   1.13531460e-02   1.13531460e-02   1.13531460e-02   1.00817880e-03\n",
      "   0.00000000e+00   0.00000000e+00   1.38675196e-03   3.32326486e+02\n",
      "   2.92942530e+02   1.76704855e-01   1.76626954e-01   5.74400761e-02\n",
      "   5.77254029e-02   7.91524536e-01   2.09821645e-02   2.89928334e-02\n",
      "   2.32495196e+02   1.88684776e+02   7.53766358e-01   3.09065714e-02\n",
      "   6.01897178e-01   6.67185602e-03   1.76774132e-01   1.76460159e-01\n",
      "   5.81244028e-02   5.74180500e-02]\n",
      "[  2.00000000e+00   6.93375640e+08   0.00000000e+00   0.00000000e+00\n",
      "   0.00000000e+00   0.00000000e+00   1.00000000e+00   0.00000000e+00\n",
      "   0.00000000e+00   0.00000000e+00   0.00000000e+00   0.00000000e+00\n",
      "   0.00000000e+00   0.00000000e+00   0.00000000e+00   0.00000000e+00\n",
      "   0.00000000e+00   0.00000000e+00   0.00000000e+00   5.70000000e+01\n",
      "   3.00000000e+00   7.90000000e-01   6.70000000e-01   2.10000000e-01\n",
      "   3.30000000e-01   5.00000000e-02   3.90000000e-01   0.00000000e+00\n",
      "   2.55000000e+02   3.00000000e+00   1.00000000e-02   9.00000000e-02\n",
      "   2.20000000e-01   0.00000000e+00   1.80000000e-01   6.70000000e-01\n",
      "   5.00000000e-02   3.30000000e-01]\n",
      "[  5.05167797e+03   5.13422649e+06   0.00000000e+00   0.00000000e+00\n",
      "   0.00000000e+00   0.00000000e+00   2.71186441e+00   0.00000000e+00\n",
      "   1.00000000e+00   0.00000000e+00   0.00000000e+00   0.00000000e+00\n",
      "   0.00000000e+00   0.00000000e+00   0.00000000e+00   0.00000000e+00\n",
      "   0.00000000e+00   0.00000000e+00   0.00000000e+00   1.01694915e+00\n",
      "   1.45762712e+00   1.69491525e-02   1.93220339e-02   0.00000000e+00\n",
      "   0.00000000e+00   9.91525424e-01   1.69491525e-02   5.76271186e-02\n",
      "   3.15932203e+01   3.50508475e+01   8.90847458e-01   2.33898305e-02\n",
      "   9.33220339e-01   1.04406780e-01   1.08474576e-02   2.42372881e-02\n",
      "   2.37288136e-03   3.38983051e-04]\n"
     ]
    }
   ],
   "source": [
    "print(*kmeansModel.clusterCenters(), sep='\\n')"
   ]
  },
  {
   "cell_type": "code",
   "execution_count": 10,
   "metadata": {},
   "outputs": [
    {
     "name": "stdout",
     "output_type": "stream",
     "text": [
      "+-------+----------------+------+\n",
      "|cluster|           label| count|\n",
      "+-------+----------------+------+\n",
      "|      0|            spy.|     2|\n",
      "|      0|           perl.|     3|\n",
      "|      0|            phf.|     4|\n",
      "|      0|       multihop.|     7|\n",
      "|      0|      ftp_write.|     8|\n",
      "|      0|     loadmodule.|     9|\n",
      "|      0|        rootkit.|    10|\n",
      "|      0|           imap.|    12|\n",
      "|      0|    warezmaster.|    20|\n",
      "|      0|           land.|    21|\n",
      "|      0|buffer_overflow.|    30|\n",
      "|      0|   guess_passwd.|    53|\n",
      "|      0|           nmap.|   231|\n",
      "|      0|            pod.|   264|\n",
      "|      0|    warezclient.|   961|\n",
      "|      0|       teardrop.|   979|\n",
      "|      0|      portsweep.|  1039|\n",
      "|      0|        ipsweep.|  1247|\n",
      "|      0|          satan.|  1589|\n",
      "|      0|           back.|  2203|\n",
      "|      0|         normal.| 97277|\n",
      "|      0|        neptune.|107201|\n",
      "|      0|          smurf.|280790|\n",
      "|      1|      portsweep.|     1|\n",
      "|      2|    warezclient.|    59|\n",
      "+-------+----------------+------+\n",
      "\n"
     ]
    }
   ],
   "source": [
    "withCluster = pipelineModel.transform(train)\n",
    "withCluster.select(\"cluster\", \"label\") \\\n",
    "    .groupBy(\"cluster\", \"label\").count() \\\n",
    "    .orderBy(\"cluster\", \"count\").show(25)"
   ]
  },
  {
   "cell_type": "code",
   "execution_count": 11,
   "metadata": {},
   "outputs": [],
   "source": [
    "spark.stop()"
   ]
  }
 ],
 "metadata": {
  "kernelspec": {
   "display_name": "Python 3",
   "language": "python",
   "name": "python3"
  },
  "language_info": {
   "codemirror_mode": {
    "name": "ipython",
    "version": 3
   },
   "file_extension": ".py",
   "mimetype": "text/x-python",
   "name": "python",
   "nbconvert_exporter": "python",
   "pygments_lexer": "ipython3",
   "version": "3.6.3"
  }
 },
 "nbformat": 4,
 "nbformat_minor": 2
}
